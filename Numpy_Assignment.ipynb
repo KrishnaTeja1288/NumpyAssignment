{
  "nbformat": 4,
  "nbformat_minor": 0,
  "metadata": {
    "colab": {
      "provenance": []
    },
    "kernelspec": {
      "name": "python3",
      "display_name": "Python 3"
    },
    "language_info": {
      "name": "python"
    }
  },
  "cells": [
    {
      "cell_type": "markdown",
      "source": [
        "**Theoretical** **Questions**"
      ],
      "metadata": {
        "id": "zVdQFOg24Im3"
      }
    },
    {
      "cell_type": "code",
      "source": [
        "#  1. Explain the purpose and advantages of NumPy in scientific computing and data analysis. How does it enhance Python's capabilities for numerical operations?\n",
        "'''\n",
        "(Ans)\n",
        "NumPy is a powerful tool in Python that makes working with numbers and large sets of data easier and faster, which is why it’s so popular in fields\n",
        "like data analysis, scientific computing, and machine learning.\n",
        "\n",
        "NumPy is mainly designed to handle large amounts of numbers efficiently. It provides a special data structure called an \"array\" that is more\n",
        "powerful than regular Python lists when it comes to numerical calculations. This array structure allows us to perform complex mathematical operations\n",
        "much faster, which is critical in fields where you need to process and analyze big datasets or perform lots of calculations, like scientific research or AI.\n",
        "\n",
        "Why Use NumPy?\n",
        "Here are some of the biggest reasons:\n",
        "\n",
        "1.Speed and Efficiency\n",
        "   NumPy arrays are designed to be faster and use memory more efficiently than Python’s standard lists. This is because they store data in a way that’s\n",
        "   very easy for the computer to access, making operations on big datasets much quicker.\n",
        "\n",
        "2. Easier Math with Vectorized Operations\n",
        "   NumPy lets you do mathematical operations on entire arrays at once without writing loops. So, instead of having to multiply each item in a list by a number one at a time,\n",
        "   you can just tell NumPy to multiply the whole array, and it does it in a single step. This saves time and makes the code cleaner and faster.\n",
        "\n",
        "3. Wide Range of Built-in Math Functions\n",
        "   NumPy includes a huge variety of math functions, from basic operations like addition and subtraction to more complex ones like trigonometry and statistics.\n",
        "   These functions are designed to be as fast and accurate as possible, making calculations easier and more reliable.\n",
        "\n",
        "4. Works Well with Other Python Libraries\n",
        "   NumPy is compatible with many other popular libraries, like Pandas for data manipulation and Matplotlib for creating visualizations.\n",
        "   Many machine learning libraries, like TensorFlow, also rely on NumPy, so knowing it makes using these other tools much easier.\n",
        "\n",
        "5. Multi-dimensional Arrays\n",
        "   While regular Python lists are limited, NumPy arrays can handle multiple dimensions, which is essential for data like images or multi-layered tables.\n",
        "   This flexibility allows you to work with data in a way that better reflects its actual structure.\n",
        "\n",
        "6. Broadcasting Simplifies Calculations\n",
        "   With broadcasting, you can perform operations on arrays of different shapes without writing complex code. For example, you can add a 1D array to each row\n",
        "   of a 2D array in one step, which is especially helpful in scientific computing.\n",
        "\n",
        "7. Integration with C and C++ for Extra Speed\n",
        "   NumPy is built on C, which is a very fast language, and you can connect it to code written in C or C++ for even more speed when working with huge datasets.\n",
        "\n",
        "Python is great for writing readable code, but it’s not the fastest for math-heavy operations on big datasets. NumPy speeds this up by providing a high-performance\n",
        "way to handle numbers and arrays. It turns Python into a language that can compete with traditional scientific computing tools, making it a strong choice for data analysis,\n",
        "machine learning, and complex scientific calculations.\n",
        "\n",
        "'''"
      ],
      "metadata": {
        "id": "dhyceKajIfZG"
      },
      "execution_count": null,
      "outputs": []
    },
    {
      "cell_type": "code",
      "source": [
        "# 2.  Compare and contrast np.mean() and np.average() functions in NumPy. When would you use one over the other?\n",
        "'''\n",
        "(Ans)\n",
        "np.mean() and np.average() are both functions in NumPy used to calculate the mean of an array,\n",
        "\n",
        "Here’s a comparison of the two and when we might choose one over the other.\n",
        "\n",
        "1. Basic Difference in Functionality\n",
        "np.mean(): This function calculates the arithmetic mean (simple average) of the values in an array along the specified axis.\n",
        "It treats all elements equally and does not accept weights.\n",
        "np.average(): This function can also calculate the mean, but it allows you to assign weights to each element in the array.\n",
        "By providing a weights parameter, you can calculate a weighted average, which gives different importance to different values.\n",
        "2. Syntax\n",
        "np.mean(): np.mean(array, axis=None)\n",
        "np.average(): np.average(array, axis=None, weights=None)\n",
        "If you don’t specify weights in np.average(), it functions exactly like np.mean() and simply calculates the arithmetic mean.\n",
        "\n",
        "3. Weighted Mean (Only in np.average())\n",
        "Example of Weighted Average with np.average(): Suppose you have an array of scores [10, 20, 30] and want to calculate the weighted average with weights\n",
        "[1, 2, 3]. Using np.average() with weights, you get:\n",
        "\n",
        "\n",
        "np.average([10, 20, 30], weights=[1, 2, 3])\n",
        "This means the value 30 is given three times the importance of 10.\n",
        "\n",
        "No Weighting in np.mean(): np.mean() treats all values equally, so if you need a weighted result, only np.average() can provide it.\n",
        "\n",
        "4. Handling NaN Values\n",
        "Both np.mean() and np.average() don’t handle NaN values automatically, but you can use np.nanmean() if you want to ignore NaN values in your calculations\n",
        "(no equivalent exists for np.average()).\n",
        "When to Use Each Function\n",
        "Use np.mean() when:\n",
        "\n",
        "You want a simple, straightforward average where all values are treated equally.\n",
        "You don’t need to apply any weights.\n",
        "You want cleaner syntax for calculating the mean of an array without additional parameters.\n",
        "Use np.average() when:\n",
        "\n",
        "You need a weighted average where certain values should have more influence on the result than others.\n",
        "You want flexibility in giving different values more or less importanc\n",
        "'''"
      ],
      "metadata": {
        "id": "T4ObcHx_3eI1"
      },
      "execution_count": null,
      "outputs": []
    },
    {
      "cell_type": "code",
      "source": [
        "# 3. Describe the methods for reversing a NumPy array along different axes. Provide examples for 1D and 2D arrays?\n",
        "'''\n",
        "(Ans)\n",
        "To reverse a NumPy array, you can use slicing with negative indices or functions like np.flip().\n",
        "Reversing along different axes is possible by specifying the axis.\n",
        "Example\n",
        "# 1D Array\n",
        "arr_1d = np.array([1, 2, 3, 4])\n",
        "reversed_1d = arr_1d[::-1]\n",
        "Output: [4 3 2 1]\n",
        "\n",
        "# 2D Array\n",
        "arr_2d = np.array([[1, 2], [3, 4]])\n",
        "reversed_2d = np.flip(arr_2d, axis=0)\n",
        "Output: [[3 4]\n",
        "         [1 2]]\n",
        "\n",
        "'''"
      ],
      "metadata": {
        "id": "dmSWWS9Y5Aut",
        "colab": {
          "base_uri": "https://localhost:8080/",
          "height": 54
        },
        "outputId": "7434a9dc-5686-4d05-f115-23adddcef845"
      },
      "execution_count": 2,
      "outputs": [
        {
          "output_type": "execute_result",
          "data": {
            "text/plain": [
              "'\\n(Ans)\\nTo reverse a NumPy array, you can use slicing with negative indices or functions like np.flip().\\nReversing along different axes is possible by specifying the axis.\\n# 1D Array\\narr_1d = np.array([1, 2, 3, 4])\\nreversed_1d = arr_1d[::-1]\\n\\n# 2D Array\\narr_2d = np.array([[1, 2], [3, 4]])\\nreversed_2d = np.flip(arr_2d, axis=0)\\n\\n'"
            ],
            "application/vnd.google.colaboratory.intrinsic+json": {
              "type": "string"
            }
          },
          "metadata": {},
          "execution_count": 2
        }
      ]
    },
    {
      "cell_type": "code",
      "source": [
        "# 4.  How can you determine the data type of elements in a NumPy array? Discuss the importance of data types in memory management and performance.\n",
        "\n",
        "'''\n",
        "(Ans)\n",
        "The data type of elements in a NumPy array can be determined using the dtype attribute.\n",
        "\n",
        "Importance of Data Types:\n",
        "Data types help in memory optimization and ensure efficient computation. Choosing an appropriate data type\n",
        "can reduce memory usage and improve performance in large datasets.\n",
        "\n",
        "Example:\n",
        "arr = np.array([1, 2, 3], dtype=np.int32)\n",
        "arr.dtype\n",
        "Output: int32\n",
        "'''"
      ],
      "metadata": {
        "colab": {
          "base_uri": "https://localhost:8080/",
          "height": 72
        },
        "id": "kvwIRofOMm-J",
        "outputId": "27cab773-a8c2-49c9-b786-13310d9665e3"
      },
      "execution_count": 3,
      "outputs": [
        {
          "output_type": "execute_result",
          "data": {
            "text/plain": [
              "'\\n(Ans)\\nThe data type of elements in a NumPy array can be determined using the dtype attribute.\\n\\nImportance of Data Types:\\nData types help in memory optimization and ensure efficient computation. Choosing an appropriate data type\\ncan reduce memory usage and improve performance in large datasets.\\n\\nExample:\\narr = np.array([1, 2, 3], dtype=np.int32)\\narr.dtype\\nOutput: int32\\n'"
            ],
            "application/vnd.google.colaboratory.intrinsic+json": {
              "type": "string"
            }
          },
          "metadata": {},
          "execution_count": 3
        }
      ]
    },
    {
      "cell_type": "code",
      "source": [
        "# 5. Define ndarrays in NumPy and explain their key features. How do they differ from standard Python lists?\n",
        "'''\n",
        "(Ans)\n",
        "Definition of ndarrays:\n",
        "An ndarray is a multi-dimensional array in NumPy for efficient storage and manipulation of large data sets.\n",
        "\n",
        "Key Features:\n",
        "\n",
        "Homogeneous: All elements have the same data type.\n",
        "Fixed Size: Array size is fixed once created.\n",
        "Supports Mathematical Operations: Fast, vectorized operations without explicit loops.\n",
        "Difference from Python Lists:\n",
        "Python lists are general-purpose, while ndarrays are specialized for numerical data, allowing more efficient memory usage and faster computation.\n",
        "\n",
        " '''"
      ],
      "metadata": {
        "id": "2mzhd3sUNKEn"
      },
      "execution_count": null,
      "outputs": []
    },
    {
      "cell_type": "code",
      "source": [
        "# 6. Analyze the performance benefits of NumPy arrays over Python lists for large-scale numerical operations.?\n",
        "'''\n",
        "(Ans)\n",
        "Performance Benefits of NumPy Arrays:\n",
        "NumPy arrays are faster and more memory-efficient than Python lists for large-scale numerical operations because they:\n",
        "\n",
        "Avoid type checking overhead by enforcing a single data type.\n",
        "Use contiguous memory blocks, resulting in faster access and processing.\n",
        "Allow vectorized operations, which are significantly faster than loops.\n",
        "\n",
        "Example:\n",
        "'''"
      ],
      "metadata": {
        "id": "hsaIMEtRTE2Q"
      },
      "execution_count": null,
      "outputs": []
    },
    {
      "cell_type": "code",
      "source": [
        "import time\n",
        "import numpy as np\n",
        "# Python List\n",
        "lst = list(range(1000000))\n",
        "start = time.time()\n",
        "sum_lst = sum(lst)\n",
        "end = time.time()\n",
        "list_time = end - start\n",
        "\n",
        "# NumPy Array\n",
        "arr = np.array(lst)\n",
        "start = time.time()\n",
        "sum_arr = np.sum(arr)\n",
        "end = time.time()\n",
        "numpy_time = end - start\n",
        "\n",
        "list_time, numpy_time"
      ],
      "metadata": {
        "colab": {
          "base_uri": "https://localhost:8080/"
        },
        "id": "ZJAquQWSTelH",
        "outputId": "ee51d175-c14e-4c1f-b1cc-0e5d5d940988"
      },
      "execution_count": 5,
      "outputs": [
        {
          "output_type": "execute_result",
          "data": {
            "text/plain": [
              "(0.008851289749145508, 0.005782604217529297)"
            ]
          },
          "metadata": {},
          "execution_count": 5
        }
      ]
    },
    {
      "cell_type": "code",
      "source": [
        "# 7.  Compare vstack() and hstack() functions in NumPy. Provide examples demonstrating their usage and output.?\n",
        "'''\n",
        "(Ans)\n",
        "vstack(): Stacks arrays vertically (row-wise).\n",
        "hstack(): Stacks arrays horizontally (column-wise).\n",
        "Example\n",
        "a = np.array([1, 2])\n",
        "b = np.array([3, 4])\n",
        "v_stacked = np.vstack((a, b))\n",
        "h_stacked = np.hstack((a, b))\n",
        "output\n",
        "v_stacked:\n",
        "[[1 2]\n",
        " [3 4]]\n",
        "\n",
        "h_stacked:\n",
        "[1 2 3 4]\n",
        "'''"
      ],
      "metadata": {
        "colab": {
          "base_uri": "https://localhost:8080/",
          "height": 54
        },
        "id": "kmDjsSw7ThAA",
        "outputId": "02531734-edc6-46d9-bcc1-593fd7d229d5"
      },
      "execution_count": 6,
      "outputs": [
        {
          "output_type": "execute_result",
          "data": {
            "text/plain": [
              "'\\n(Ans)\\nvstack(): Stacks arrays vertically (row-wise).\\nhstack(): Stacks arrays horizontally (column-wise).\\nExample\\na = np.array([1, 2])\\nb = np.array([3, 4])\\nv_stacked = np.vstack((a, b))\\nh_stacked = np.hstack((a, b))\\noutput\\nv_stacked:\\n[[1 2]\\n [3 4]]\\n\\nh_stacked:\\n[1 2 3 4]\\n'"
            ],
            "application/vnd.google.colaboratory.intrinsic+json": {
              "type": "string"
            }
          },
          "metadata": {},
          "execution_count": 6
        }
      ]
    },
    {
      "cell_type": "code",
      "source": [
        "# 8. Explain the differences between fliplr() and flipud() methods in NumPy, including their effects on various array dimensions.?\n",
        "'''\n",
        "(Ans)\n",
        "fliplr(): Flips the array in the left/right direction.\n",
        "flipud(): Flips the array in the up/down direction.\n",
        "Example\n",
        "arr = np.array([[1, 2, 3], [4, 5, 6]])\n",
        "flipped_lr = np.fliplr(arr)\n",
        "flipped_ud = np.flipud(arr)\n",
        "Output:\n",
        "flipped_lr:\n",
        "[[3 2 1]\n",
        " [6 5 4]]\n",
        "\n",
        "flipped_ud:\n",
        "[[4 5 6]\n",
        " [1 2 3]]\n",
        "'''"
      ],
      "metadata": {
        "colab": {
          "base_uri": "https://localhost:8080/",
          "height": 54
        },
        "id": "zQ_2lxQ0UOyR",
        "outputId": "8f93e546-4208-4f47-a256-78a7fcd02c21"
      },
      "execution_count": 7,
      "outputs": [
        {
          "output_type": "execute_result",
          "data": {
            "text/plain": [
              "'\\n(Ans)\\nfliplr(): Flips the array in the left/right direction.\\nflipud(): Flips the array in the up/down direction.\\nExample\\narr = np.array([[1, 2, 3], [4, 5, 6]])\\nflipped_lr = np.fliplr(arr)\\nflipped_ud = np.flipud(arr)\\nOutput:\\nflipped_lr:\\n[[3 2 1]\\n [6 5 4]]\\n\\nflipped_ud:\\n[[4 5 6]\\n [1 2 3]]\\n'"
            ],
            "application/vnd.google.colaboratory.intrinsic+json": {
              "type": "string"
            }
          },
          "metadata": {},
          "execution_count": 7
        }
      ]
    },
    {
      "cell_type": "code",
      "source": [
        "# 9.  Discuss the functionality of the array_split() method in NumPy. How does it handle uneven splits?\n",
        "'''\n",
        "(Ans)\n",
        "array_split(): Splits an array into multiple sub-arrays.\n",
        "Example\n",
        "arr = np.array([1, 2, 3, 4, 5, 6])\n",
        "splitted = np.array_split(arr, 3)\n",
        "Output:\n",
        "splitted:\n",
        "[array([1, 2]), array([3, 4]), array([5, 6])]\n",
        "\n",
        "'''"
      ],
      "metadata": {
        "colab": {
          "base_uri": "https://localhost:8080/",
          "height": 54
        },
        "id": "E5j099c3UhGi",
        "outputId": "5fc60d1e-f6fe-48e2-888a-8624954fc5c7"
      },
      "execution_count": 8,
      "outputs": [
        {
          "output_type": "execute_result",
          "data": {
            "text/plain": [
              "'\\n(Ans)\\narray_split(): Splits an array into multiple sub-arrays.\\nExample\\narr = np.array([1, 2, 3, 4, 5, 6])\\nsplitted = np.array_split(arr, 3)\\nOutput:\\nsplitted:\\n[array([1, 2]), array([3, 4]), array([5, 6])]\\n\\n'"
            ],
            "application/vnd.google.colaboratory.intrinsic+json": {
              "type": "string"
            }
          },
          "metadata": {},
          "execution_count": 8
        }
      ]
    },
    {
      "cell_type": "code",
      "source": [
        "# 10.  Explain the concepts of vectorization and broadcasting in NumPy. How do they contribute to efficient array operations?\n",
        "'''\n",
        "(Ans)\n",
        "Vectorization: Enables element-wise operations on entire arrays without explicit loops, improving performance.\n",
        "Broadcasting: Allows arrays of different shapes to be used together in operations, automatically expanding smaller arrays.\n",
        "Example:\n",
        "a = np.array([1, 2, 3])\n",
        "b = np.array([1])\n",
        "result = a + b\n",
        "\n",
        "'''"
      ],
      "metadata": {
        "id": "CbaYAC_IUx7T"
      },
      "execution_count": null,
      "outputs": []
    },
    {
      "cell_type": "markdown",
      "source": [
        "**Practical Questions:**"
      ],
      "metadata": {
        "id": "fgqrnK9CW4gS"
      }
    },
    {
      "cell_type": "code",
      "source": [
        "# 1. Create a 3x3 NumPy array with random integers between 1 and 100, then interchange its rows and columns.\n",
        "import numpy as np\n",
        "arr = np.random.randint(1, 101, (3, 3))\n",
        "transposed_arr = arr.T\n",
        "arr, transposed_arr\n"
      ],
      "metadata": {
        "colab": {
          "base_uri": "https://localhost:8080/"
        },
        "id": "KEHxAYX0V7PS",
        "outputId": "7dcbba87-aa73-496e-beb0-eef0c3c4e06d"
      },
      "execution_count": 10,
      "outputs": [
        {
          "output_type": "execute_result",
          "data": {
            "text/plain": [
              "(array([[42, 39, 11],\n",
              "        [88, 68, 45],\n",
              "        [40, 91, 21]]),\n",
              " array([[42, 88, 40],\n",
              "        [39, 68, 91],\n",
              "        [11, 45, 21]]))"
            ]
          },
          "metadata": {},
          "execution_count": 10
        }
      ]
    },
    {
      "cell_type": "code",
      "source": [
        "# 2. Generate a 1D NumPy array with 10 elements. Reshape it into a 2x5 array, then into a 5x2 array.\n",
        "\n",
        "arr_1d = np.arange(10)\n",
        "arr_2x5 = arr_1d.reshape(2, 5)\n",
        "arr_5x2 = arr_1d.reshape(5, 2)\n",
        "arr_2x5, arr_5x2"
      ],
      "metadata": {
        "colab": {
          "base_uri": "https://localhost:8080/"
        },
        "id": "gx-oKfOMXGdd",
        "outputId": "17e01f35-7257-4514-cd28-db7969cad78e"
      },
      "execution_count": 11,
      "outputs": [
        {
          "output_type": "execute_result",
          "data": {
            "text/plain": [
              "(array([[0, 1, 2, 3, 4],\n",
              "        [5, 6, 7, 8, 9]]),\n",
              " array([[0, 1],\n",
              "        [2, 3],\n",
              "        [4, 5],\n",
              "        [6, 7],\n",
              "        [8, 9]]))"
            ]
          },
          "metadata": {},
          "execution_count": 11
        }
      ]
    },
    {
      "cell_type": "code",
      "source": [
        "# 3. Create a 4x4 NumPy array with random float values and add a border of zeros to make it 6x6.\n",
        "\n",
        "arr_4x4 = np.random.rand(4, 4)\n",
        "arr_6x6 = np.pad(arr_4x4, pad_width=1, mode='constant', constant_values=0)\n",
        "arr_4x4, arr_6x6"
      ],
      "metadata": {
        "colab": {
          "base_uri": "https://localhost:8080/"
        },
        "id": "PNYr6L0IXezn",
        "outputId": "360695f7-b879-427c-c176-dbe2bccc7dd9"
      },
      "execution_count": 13,
      "outputs": [
        {
          "output_type": "execute_result",
          "data": {
            "text/plain": [
              "(array([[0.29625211, 0.31808439, 0.08885123, 0.34078709],\n",
              "        [0.31049725, 0.52103051, 0.5726421 , 0.09459451],\n",
              "        [0.32235847, 0.63879638, 0.64273862, 0.90438839],\n",
              "        [0.60961798, 0.93140242, 0.5579586 , 0.57129456]]),\n",
              " array([[0.        , 0.        , 0.        , 0.        , 0.        ,\n",
              "         0.        ],\n",
              "        [0.        , 0.29625211, 0.31808439, 0.08885123, 0.34078709,\n",
              "         0.        ],\n",
              "        [0.        , 0.31049725, 0.52103051, 0.5726421 , 0.09459451,\n",
              "         0.        ],\n",
              "        [0.        , 0.32235847, 0.63879638, 0.64273862, 0.90438839,\n",
              "         0.        ],\n",
              "        [0.        , 0.60961798, 0.93140242, 0.5579586 , 0.57129456,\n",
              "         0.        ],\n",
              "        [0.        , 0.        , 0.        , 0.        , 0.        ,\n",
              "         0.        ]]))"
            ]
          },
          "metadata": {},
          "execution_count": 13
        }
      ]
    },
    {
      "cell_type": "code",
      "source": [
        "# 4. Create an array of integers from 10 to 60 with a step of 5.\n",
        "\n",
        "arr = np.arange(10, 61, 5)\n",
        "\n",
        "arr"
      ],
      "metadata": {
        "colab": {
          "base_uri": "https://localhost:8080/"
        },
        "id": "9aX8HV94Xnp2",
        "outputId": "4f70f129-dab2-434d-d4b8-4f8d0b04956a"
      },
      "execution_count": 14,
      "outputs": [
        {
          "output_type": "execute_result",
          "data": {
            "text/plain": [
              "array([10, 15, 20, 25, 30, 35, 40, 45, 50, 55, 60])"
            ]
          },
          "metadata": {},
          "execution_count": 14
        }
      ]
    },
    {
      "cell_type": "code",
      "source": [
        "#5. Create an array of strings and apply different case transformations.\n",
        "\n",
        "arr = np.array(['python', 'numpy', 'pandas'])\n",
        "\n",
        "upper_case = np.char.upper(arr)\n",
        "lower_case = np.char.lower(arr)\n",
        "title_case = np.char.title(arr)\n",
        "\n",
        "upper_case, lower_case, title_case"
      ],
      "metadata": {
        "colab": {
          "base_uri": "https://localhost:8080/"
        },
        "id": "G7GBKiheXvyT",
        "outputId": "784afdbb-3d5c-4ffc-9598-64d6a0cf6eb2"
      },
      "execution_count": 15,
      "outputs": [
        {
          "output_type": "execute_result",
          "data": {
            "text/plain": [
              "(array(['PYTHON', 'NUMPY', 'PANDAS'], dtype='<U6'),\n",
              " array(['python', 'numpy', 'pandas'], dtype='<U6'),\n",
              " array(['Python', 'Numpy', 'Pandas'], dtype='<U6'))"
            ]
          },
          "metadata": {},
          "execution_count": 15
        }
      ]
    },
    {
      "cell_type": "code",
      "source": [
        "# 6. Insert a space between each character of every word in an array of words.\n",
        "\n",
        "arr = np.array(['hello', 'world', 'numpy'])\n",
        "\n",
        "spaced_arr = np.char.join(\" \", arr)\n",
        "\n",
        "spaced_arr"
      ],
      "metadata": {
        "colab": {
          "base_uri": "https://localhost:8080/"
        },
        "id": "TBvB246KX2xf",
        "outputId": "54348ea2-f4c5-49b0-ebcb-6af606fc7b77"
      },
      "execution_count": 16,
      "outputs": [
        {
          "output_type": "execute_result",
          "data": {
            "text/plain": [
              "array(['h e l l o', 'w o r l d', 'n u m p y'], dtype='<U9')"
            ]
          },
          "metadata": {},
          "execution_count": 16
        }
      ]
    },
    {
      "cell_type": "code",
      "source": [
        "# 7. Perform element-wise operations on two 2D NumPy arrays.\n",
        "\n",
        "arr1 = np.array([[1, 2], [3, 4]])\n",
        "arr2 = np.array([[5, 6], [7, 8]])\n",
        "\n",
        "# Element-wise addition, subtraction, multiplication, and division\n",
        "addition = arr1 + arr2\n",
        "subtraction = arr1 - arr2\n",
        "multiplication = arr1 * arr2\n",
        "division = arr1 / arr2\n",
        "\n",
        "addition, subtraction, multiplication, division"
      ],
      "metadata": {
        "colab": {
          "base_uri": "https://localhost:8080/"
        },
        "id": "qRbje4EmX9og",
        "outputId": "edd2fdf5-dc89-45b8-d066-2b14f685b5a0"
      },
      "execution_count": 17,
      "outputs": [
        {
          "output_type": "execute_result",
          "data": {
            "text/plain": [
              "(array([[ 6,  8],\n",
              "        [10, 12]]),\n",
              " array([[-4, -4],\n",
              "        [-4, -4]]),\n",
              " array([[ 5, 12],\n",
              "        [21, 32]]),\n",
              " array([[0.2       , 0.33333333],\n",
              "        [0.42857143, 0.5       ]]))"
            ]
          },
          "metadata": {},
          "execution_count": 17
        }
      ]
    },
    {
      "cell_type": "code",
      "source": [
        "# 8. Create a 5x5 identity matrix and extract its diagonal elements.\n",
        "\n",
        "identity_matrix = np.eye(5)\n",
        "\n",
        "diagonal_elements = np.diag(identity_matrix)\n",
        "\n",
        "identity_matrix, diagonal_elements"
      ],
      "metadata": {
        "colab": {
          "base_uri": "https://localhost:8080/"
        },
        "id": "T-QY5b8kYFfV",
        "outputId": "b25fe816-c0af-449a-9d01-9b8feed1a89b"
      },
      "execution_count": 18,
      "outputs": [
        {
          "output_type": "execute_result",
          "data": {
            "text/plain": [
              "(array([[1., 0., 0., 0., 0.],\n",
              "        [0., 1., 0., 0., 0.],\n",
              "        [0., 0., 1., 0., 0.],\n",
              "        [0., 0., 0., 1., 0.],\n",
              "        [0., 0., 0., 0., 1.]]),\n",
              " array([1., 1., 1., 1., 1.]))"
            ]
          },
          "metadata": {},
          "execution_count": 18
        }
      ]
    },
    {
      "cell_type": "code",
      "source": [
        "# 9. Find and display all prime numbers in an array of 100 random integers between 0 and 1000.?\n",
        "\n",
        "def is_prime(num):\n",
        "    if num < 2:\n",
        "        return False\n",
        "    for i in range(2, int(np.sqrt(num)) + 1):\n",
        "        if num % i == 0:\n",
        "            return False\n",
        "    return True\n",
        "arr = np.random.randint(0, 1000, 100)\n",
        "\n",
        "prime_numbers = arr[np.vectorize(is_prime)(arr)]\n",
        "\n",
        "prime_numbers"
      ],
      "metadata": {
        "colab": {
          "base_uri": "https://localhost:8080/"
        },
        "id": "wBFfL0JeYMKy",
        "outputId": "84622642-b167-4065-8ca5-bb4b649a754e"
      },
      "execution_count": 19,
      "outputs": [
        {
          "output_type": "execute_result",
          "data": {
            "text/plain": [
              "array([101, 521, 797,  67, 509, 281, 149])"
            ]
          },
          "metadata": {},
          "execution_count": 19
        }
      ]
    },
    {
      "cell_type": "code",
      "source": [
        "# 10. Create a NumPy array representing daily temperatures for a month. Calculate and display the weekly averages?\n",
        "\n",
        "# Pad the array to 35 elements (5 full weeks)\n",
        "temperatures = np.random.randint(20, 40, 30)\n",
        "padded_temperatures = np.pad(temperatures, (0, 5), 'constant', constant_values=temperatures.mean())\n",
        "weekly_temps = padded_temperatures.reshape(5, 7)\n",
        "weekly_averages = weekly_temps.mean(axis=1)\n",
        "\n",
        "weekly_averages\n"
      ],
      "metadata": {
        "colab": {
          "base_uri": "https://localhost:8080/"
        },
        "id": "seR0Y23jYVvT",
        "outputId": "19169e4f-9217-4b01-92d0-af169f23dc50"
      },
      "execution_count": 21,
      "outputs": [
        {
          "output_type": "execute_result",
          "data": {
            "text/plain": [
              "array([30.        , 30.85714286, 26.28571429, 32.14285714, 29.14285714])"
            ]
          },
          "metadata": {},
          "execution_count": 21
        }
      ]
    }
  ]
}